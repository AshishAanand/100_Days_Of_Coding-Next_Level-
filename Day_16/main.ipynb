{
 "cells": [
  {
   "cell_type": "code",
   "execution_count": 50,
   "id": "7cf50a8a",
   "metadata": {},
   "outputs": [],
   "source": [
    "import pandas as pd\n",
    "import numpy as np\n",
    "import seaborn as sns\n",
    "import joblib as jl\n",
    "import matplotlib.pyplot as plt\n",
    "from sklearn.preprocessing import LabelEncoder, OneHotEncoder\n",
    "from sklearn.linear_model import LogisticRegression\n",
    "# KNearestNeighborsClassifier\n",
    "from sklearn.neighbors import KNeighborsClassifier\n",
    "from sklearn.ensemble import RandomForestClassifier\n",
    "from sklearn.tree import DecisionTreeClassifier\n",
    "from sklearn.model_selection import train_test_split\n",
    "from sklearn.metrics import accuracy_score, classification_report, confusion_matrix\n",
    "from sklearn.preprocessing import StandardScaler, MinMaxScaler, RobustScaler"
   ]
  },
  {
   "cell_type": "code",
   "execution_count": 38,
   "id": "40827e6a",
   "metadata": {},
   "outputs": [
    {
     "data": {
      "application/vnd.microsoft.datawrangler.viewer.v0+json": {
       "columns": [
        {
         "name": "index",
         "rawType": "int64",
         "type": "integer"
        },
        {
         "name": "Name",
         "rawType": "object",
         "type": "string"
        },
        {
         "name": "Gender",
         "rawType": "object",
         "type": "string"
        },
        {
         "name": "Age",
         "rawType": "int64",
         "type": "integer"
        },
        {
         "name": "Education Level",
         "rawType": "object",
         "type": "string"
        },
        {
         "name": "Screen Time (hrs/day)",
         "rawType": "float64",
         "type": "float"
        },
        {
         "name": "Sleep Duration (hrs)",
         "rawType": "float64",
         "type": "float"
        },
        {
         "name": "Physical Activity (hrs/week)",
         "rawType": "float64",
         "type": "float"
        },
        {
         "name": "Stress Level",
         "rawType": "object",
         "type": "string"
        },
        {
         "name": "Anxious Before Exams",
         "rawType": "object",
         "type": "string"
        },
        {
         "name": "Academic Performance Change",
         "rawType": "object",
         "type": "string"
        }
       ],
       "ref": "7581f0ac-9f6c-47e8-bd83-fc8a1a5e8fc5",
       "rows": [
        [
         "0",
         "Aarav",
         "Male",
         "15",
         "Class 8",
         "7.1",
         "8.9",
         "9.3",
         "Medium",
         "No",
         "Same"
        ],
        [
         "1",
         "Meera",
         "Female",
         "25",
         "MSc",
         "3.3",
         "5.0",
         "0.2",
         "Medium",
         "No",
         "Same"
        ],
        [
         "2",
         "Ishaan",
         "Male",
         "20",
         "BTech",
         "9.5",
         "5.4",
         "6.2",
         "Medium",
         "No",
         "Same"
        ],
        [
         "3",
         "Aditya",
         "Male",
         "20",
         "BA",
         "10.8",
         "5.6",
         "5.5",
         "High",
         "Yes",
         "Same"
        ],
        [
         "4",
         "Anika",
         "Female",
         "17",
         "Class 11",
         "2.8",
         "5.4",
         "3.1",
         "Medium",
         "Yes",
         "Same"
        ]
       ],
       "shape": {
        "columns": 10,
        "rows": 5
       }
      },
      "text/html": [
       "<div>\n",
       "<style scoped>\n",
       "    .dataframe tbody tr th:only-of-type {\n",
       "        vertical-align: middle;\n",
       "    }\n",
       "\n",
       "    .dataframe tbody tr th {\n",
       "        vertical-align: top;\n",
       "    }\n",
       "\n",
       "    .dataframe thead th {\n",
       "        text-align: right;\n",
       "    }\n",
       "</style>\n",
       "<table border=\"1\" class=\"dataframe\">\n",
       "  <thead>\n",
       "    <tr style=\"text-align: right;\">\n",
       "      <th></th>\n",
       "      <th>Name</th>\n",
       "      <th>Gender</th>\n",
       "      <th>Age</th>\n",
       "      <th>Education Level</th>\n",
       "      <th>Screen Time (hrs/day)</th>\n",
       "      <th>Sleep Duration (hrs)</th>\n",
       "      <th>Physical Activity (hrs/week)</th>\n",
       "      <th>Stress Level</th>\n",
       "      <th>Anxious Before Exams</th>\n",
       "      <th>Academic Performance Change</th>\n",
       "    </tr>\n",
       "  </thead>\n",
       "  <tbody>\n",
       "    <tr>\n",
       "      <th>0</th>\n",
       "      <td>Aarav</td>\n",
       "      <td>Male</td>\n",
       "      <td>15</td>\n",
       "      <td>Class 8</td>\n",
       "      <td>7.1</td>\n",
       "      <td>8.9</td>\n",
       "      <td>9.3</td>\n",
       "      <td>Medium</td>\n",
       "      <td>No</td>\n",
       "      <td>Same</td>\n",
       "    </tr>\n",
       "    <tr>\n",
       "      <th>1</th>\n",
       "      <td>Meera</td>\n",
       "      <td>Female</td>\n",
       "      <td>25</td>\n",
       "      <td>MSc</td>\n",
       "      <td>3.3</td>\n",
       "      <td>5.0</td>\n",
       "      <td>0.2</td>\n",
       "      <td>Medium</td>\n",
       "      <td>No</td>\n",
       "      <td>Same</td>\n",
       "    </tr>\n",
       "    <tr>\n",
       "      <th>2</th>\n",
       "      <td>Ishaan</td>\n",
       "      <td>Male</td>\n",
       "      <td>20</td>\n",
       "      <td>BTech</td>\n",
       "      <td>9.5</td>\n",
       "      <td>5.4</td>\n",
       "      <td>6.2</td>\n",
       "      <td>Medium</td>\n",
       "      <td>No</td>\n",
       "      <td>Same</td>\n",
       "    </tr>\n",
       "    <tr>\n",
       "      <th>3</th>\n",
       "      <td>Aditya</td>\n",
       "      <td>Male</td>\n",
       "      <td>20</td>\n",
       "      <td>BA</td>\n",
       "      <td>10.8</td>\n",
       "      <td>5.6</td>\n",
       "      <td>5.5</td>\n",
       "      <td>High</td>\n",
       "      <td>Yes</td>\n",
       "      <td>Same</td>\n",
       "    </tr>\n",
       "    <tr>\n",
       "      <th>4</th>\n",
       "      <td>Anika</td>\n",
       "      <td>Female</td>\n",
       "      <td>17</td>\n",
       "      <td>Class 11</td>\n",
       "      <td>2.8</td>\n",
       "      <td>5.4</td>\n",
       "      <td>3.1</td>\n",
       "      <td>Medium</td>\n",
       "      <td>Yes</td>\n",
       "      <td>Same</td>\n",
       "    </tr>\n",
       "  </tbody>\n",
       "</table>\n",
       "</div>"
      ],
      "text/plain": [
       "     Name  Gender  Age Education Level  Screen Time (hrs/day)  \\\n",
       "0   Aarav    Male   15         Class 8                    7.1   \n",
       "1   Meera  Female   25             MSc                    3.3   \n",
       "2  Ishaan    Male   20           BTech                    9.5   \n",
       "3  Aditya    Male   20              BA                   10.8   \n",
       "4   Anika  Female   17        Class 11                    2.8   \n",
       "\n",
       "   Sleep Duration (hrs)  Physical Activity (hrs/week) Stress Level  \\\n",
       "0                   8.9                           9.3       Medium   \n",
       "1                   5.0                           0.2       Medium   \n",
       "2                   5.4                           6.2       Medium   \n",
       "3                   5.6                           5.5         High   \n",
       "4                   5.4                           3.1       Medium   \n",
       "\n",
       "  Anxious Before Exams Academic Performance Change  \n",
       "0                   No                        Same  \n",
       "1                   No                        Same  \n",
       "2                   No                        Same  \n",
       "3                  Yes                        Same  \n",
       "4                  Yes                        Same  "
      ]
     },
     "execution_count": 38,
     "metadata": {},
     "output_type": "execute_result"
    }
   ],
   "source": [
    "data = pd.read_csv('Student Mental Health.csv')\n",
    "data.head()"
   ]
  },
  {
   "cell_type": "code",
   "execution_count": 39,
   "id": "3ea99a30",
   "metadata": {},
   "outputs": [
    {
     "data": {
      "application/vnd.microsoft.datawrangler.viewer.v0+json": {
       "columns": [
        {
         "name": "index",
         "rawType": "int64",
         "type": "integer"
        },
        {
         "name": "Gender",
         "rawType": "object",
         "type": "string"
        },
        {
         "name": "Age",
         "rawType": "int64",
         "type": "integer"
        },
        {
         "name": "Education Level",
         "rawType": "object",
         "type": "string"
        },
        {
         "name": "Screen Time (hrs/day)",
         "rawType": "float64",
         "type": "float"
        },
        {
         "name": "Sleep Duration (hrs)",
         "rawType": "float64",
         "type": "float"
        },
        {
         "name": "Physical Activity (hrs/week)",
         "rawType": "float64",
         "type": "float"
        },
        {
         "name": "Stress Level",
         "rawType": "object",
         "type": "string"
        },
        {
         "name": "Anxious Before Exams",
         "rawType": "object",
         "type": "string"
        },
        {
         "name": "Academic Performance Change",
         "rawType": "object",
         "type": "string"
        }
       ],
       "ref": "409ecc71-55ee-4aa1-ac14-fc769ae7e8ba",
       "rows": [
        [
         "0",
         "Male",
         "15",
         "Class 8",
         "7.1",
         "8.9",
         "9.3",
         "Medium",
         "No",
         "Same"
        ],
        [
         "1",
         "Female",
         "25",
         "MSc",
         "3.3",
         "5.0",
         "0.2",
         "Medium",
         "No",
         "Same"
        ],
        [
         "2",
         "Male",
         "20",
         "BTech",
         "9.5",
         "5.4",
         "6.2",
         "Medium",
         "No",
         "Same"
        ],
        [
         "3",
         "Male",
         "20",
         "BA",
         "10.8",
         "5.6",
         "5.5",
         "High",
         "Yes",
         "Same"
        ],
        [
         "4",
         "Female",
         "17",
         "Class 11",
         "2.8",
         "5.4",
         "3.1",
         "Medium",
         "Yes",
         "Same"
        ]
       ],
       "shape": {
        "columns": 9,
        "rows": 5
       }
      },
      "text/html": [
       "<div>\n",
       "<style scoped>\n",
       "    .dataframe tbody tr th:only-of-type {\n",
       "        vertical-align: middle;\n",
       "    }\n",
       "\n",
       "    .dataframe tbody tr th {\n",
       "        vertical-align: top;\n",
       "    }\n",
       "\n",
       "    .dataframe thead th {\n",
       "        text-align: right;\n",
       "    }\n",
       "</style>\n",
       "<table border=\"1\" class=\"dataframe\">\n",
       "  <thead>\n",
       "    <tr style=\"text-align: right;\">\n",
       "      <th></th>\n",
       "      <th>Gender</th>\n",
       "      <th>Age</th>\n",
       "      <th>Education Level</th>\n",
       "      <th>Screen Time (hrs/day)</th>\n",
       "      <th>Sleep Duration (hrs)</th>\n",
       "      <th>Physical Activity (hrs/week)</th>\n",
       "      <th>Stress Level</th>\n",
       "      <th>Anxious Before Exams</th>\n",
       "      <th>Academic Performance Change</th>\n",
       "    </tr>\n",
       "  </thead>\n",
       "  <tbody>\n",
       "    <tr>\n",
       "      <th>0</th>\n",
       "      <td>Male</td>\n",
       "      <td>15</td>\n",
       "      <td>Class 8</td>\n",
       "      <td>7.1</td>\n",
       "      <td>8.9</td>\n",
       "      <td>9.3</td>\n",
       "      <td>Medium</td>\n",
       "      <td>No</td>\n",
       "      <td>Same</td>\n",
       "    </tr>\n",
       "    <tr>\n",
       "      <th>1</th>\n",
       "      <td>Female</td>\n",
       "      <td>25</td>\n",
       "      <td>MSc</td>\n",
       "      <td>3.3</td>\n",
       "      <td>5.0</td>\n",
       "      <td>0.2</td>\n",
       "      <td>Medium</td>\n",
       "      <td>No</td>\n",
       "      <td>Same</td>\n",
       "    </tr>\n",
       "    <tr>\n",
       "      <th>2</th>\n",
       "      <td>Male</td>\n",
       "      <td>20</td>\n",
       "      <td>BTech</td>\n",
       "      <td>9.5</td>\n",
       "      <td>5.4</td>\n",
       "      <td>6.2</td>\n",
       "      <td>Medium</td>\n",
       "      <td>No</td>\n",
       "      <td>Same</td>\n",
       "    </tr>\n",
       "    <tr>\n",
       "      <th>3</th>\n",
       "      <td>Male</td>\n",
       "      <td>20</td>\n",
       "      <td>BA</td>\n",
       "      <td>10.8</td>\n",
       "      <td>5.6</td>\n",
       "      <td>5.5</td>\n",
       "      <td>High</td>\n",
       "      <td>Yes</td>\n",
       "      <td>Same</td>\n",
       "    </tr>\n",
       "    <tr>\n",
       "      <th>4</th>\n",
       "      <td>Female</td>\n",
       "      <td>17</td>\n",
       "      <td>Class 11</td>\n",
       "      <td>2.8</td>\n",
       "      <td>5.4</td>\n",
       "      <td>3.1</td>\n",
       "      <td>Medium</td>\n",
       "      <td>Yes</td>\n",
       "      <td>Same</td>\n",
       "    </tr>\n",
       "  </tbody>\n",
       "</table>\n",
       "</div>"
      ],
      "text/plain": [
       "   Gender  Age Education Level  Screen Time (hrs/day)  Sleep Duration (hrs)  \\\n",
       "0    Male   15         Class 8                    7.1                   8.9   \n",
       "1  Female   25             MSc                    3.3                   5.0   \n",
       "2    Male   20           BTech                    9.5                   5.4   \n",
       "3    Male   20              BA                   10.8                   5.6   \n",
       "4  Female   17        Class 11                    2.8                   5.4   \n",
       "\n",
       "   Physical Activity (hrs/week) Stress Level Anxious Before Exams  \\\n",
       "0                           9.3       Medium                   No   \n",
       "1                           0.2       Medium                   No   \n",
       "2                           6.2       Medium                   No   \n",
       "3                           5.5         High                  Yes   \n",
       "4                           3.1       Medium                  Yes   \n",
       "\n",
       "  Academic Performance Change  \n",
       "0                        Same  \n",
       "1                        Same  \n",
       "2                        Same  \n",
       "3                        Same  \n",
       "4                        Same  "
      ]
     },
     "execution_count": 39,
     "metadata": {},
     "output_type": "execute_result"
    }
   ],
   "source": [
    "# Removing Unnecessary column\n",
    "\n",
    "data.drop(['Name'], axis=1, inplace=True)\n",
    "data.head()"
   ]
  },
  {
   "cell_type": "markdown",
   "id": "271418dc",
   "metadata": {},
   "source": [
    "# Encoding"
   ]
  },
  {
   "cell_type": "code",
   "execution_count": 40,
   "id": "b4eb6eaf",
   "metadata": {},
   "outputs": [
    {
     "data": {
      "application/vnd.microsoft.datawrangler.viewer.v0+json": {
       "columns": [
        {
         "name": "index",
         "rawType": "int64",
         "type": "integer"
        },
        {
         "name": "Gender",
         "rawType": "object",
         "type": "string"
        },
        {
         "name": "Age",
         "rawType": "int64",
         "type": "integer"
        },
        {
         "name": "Education Level",
         "rawType": "object",
         "type": "string"
        },
        {
         "name": "Screen Time (hrs/day)",
         "rawType": "float64",
         "type": "float"
        },
        {
         "name": "Sleep Duration (hrs)",
         "rawType": "float64",
         "type": "float"
        },
        {
         "name": "Physical Activity (hrs/week)",
         "rawType": "float64",
         "type": "float"
        },
        {
         "name": "Stress Level",
         "rawType": "int64",
         "type": "integer"
        },
        {
         "name": "Anxious Before Exams",
         "rawType": "int64",
         "type": "integer"
        },
        {
         "name": "Academic Performance Change",
         "rawType": "object",
         "type": "string"
        }
       ],
       "ref": "fb73094b-3d5f-4345-8c59-3e47b32d2f0b",
       "rows": [
        [
         "0",
         "Male",
         "15",
         "Class 8",
         "7.1",
         "8.9",
         "9.3",
         "2",
         "0",
         "Same"
        ],
        [
         "1",
         "Female",
         "25",
         "MSc",
         "3.3",
         "5.0",
         "0.2",
         "2",
         "0",
         "Same"
        ],
        [
         "2",
         "Male",
         "20",
         "BTech",
         "9.5",
         "5.4",
         "6.2",
         "2",
         "0",
         "Same"
        ],
        [
         "3",
         "Male",
         "20",
         "BA",
         "10.8",
         "5.6",
         "5.5",
         "0",
         "1",
         "Same"
        ],
        [
         "4",
         "Female",
         "17",
         "Class 11",
         "2.8",
         "5.4",
         "3.1",
         "2",
         "1",
         "Same"
        ]
       ],
       "shape": {
        "columns": 9,
        "rows": 5
       }
      },
      "text/html": [
       "<div>\n",
       "<style scoped>\n",
       "    .dataframe tbody tr th:only-of-type {\n",
       "        vertical-align: middle;\n",
       "    }\n",
       "\n",
       "    .dataframe tbody tr th {\n",
       "        vertical-align: top;\n",
       "    }\n",
       "\n",
       "    .dataframe thead th {\n",
       "        text-align: right;\n",
       "    }\n",
       "</style>\n",
       "<table border=\"1\" class=\"dataframe\">\n",
       "  <thead>\n",
       "    <tr style=\"text-align: right;\">\n",
       "      <th></th>\n",
       "      <th>Gender</th>\n",
       "      <th>Age</th>\n",
       "      <th>Education Level</th>\n",
       "      <th>Screen Time (hrs/day)</th>\n",
       "      <th>Sleep Duration (hrs)</th>\n",
       "      <th>Physical Activity (hrs/week)</th>\n",
       "      <th>Stress Level</th>\n",
       "      <th>Anxious Before Exams</th>\n",
       "      <th>Academic Performance Change</th>\n",
       "    </tr>\n",
       "  </thead>\n",
       "  <tbody>\n",
       "    <tr>\n",
       "      <th>0</th>\n",
       "      <td>Male</td>\n",
       "      <td>15</td>\n",
       "      <td>Class 8</td>\n",
       "      <td>7.1</td>\n",
       "      <td>8.9</td>\n",
       "      <td>9.3</td>\n",
       "      <td>2</td>\n",
       "      <td>0</td>\n",
       "      <td>Same</td>\n",
       "    </tr>\n",
       "    <tr>\n",
       "      <th>1</th>\n",
       "      <td>Female</td>\n",
       "      <td>25</td>\n",
       "      <td>MSc</td>\n",
       "      <td>3.3</td>\n",
       "      <td>5.0</td>\n",
       "      <td>0.2</td>\n",
       "      <td>2</td>\n",
       "      <td>0</td>\n",
       "      <td>Same</td>\n",
       "    </tr>\n",
       "    <tr>\n",
       "      <th>2</th>\n",
       "      <td>Male</td>\n",
       "      <td>20</td>\n",
       "      <td>BTech</td>\n",
       "      <td>9.5</td>\n",
       "      <td>5.4</td>\n",
       "      <td>6.2</td>\n",
       "      <td>2</td>\n",
       "      <td>0</td>\n",
       "      <td>Same</td>\n",
       "    </tr>\n",
       "    <tr>\n",
       "      <th>3</th>\n",
       "      <td>Male</td>\n",
       "      <td>20</td>\n",
       "      <td>BA</td>\n",
       "      <td>10.8</td>\n",
       "      <td>5.6</td>\n",
       "      <td>5.5</td>\n",
       "      <td>0</td>\n",
       "      <td>1</td>\n",
       "      <td>Same</td>\n",
       "    </tr>\n",
       "    <tr>\n",
       "      <th>4</th>\n",
       "      <td>Female</td>\n",
       "      <td>17</td>\n",
       "      <td>Class 11</td>\n",
       "      <td>2.8</td>\n",
       "      <td>5.4</td>\n",
       "      <td>3.1</td>\n",
       "      <td>2</td>\n",
       "      <td>1</td>\n",
       "      <td>Same</td>\n",
       "    </tr>\n",
       "  </tbody>\n",
       "</table>\n",
       "</div>"
      ],
      "text/plain": [
       "   Gender  Age Education Level  Screen Time (hrs/day)  Sleep Duration (hrs)  \\\n",
       "0    Male   15         Class 8                    7.1                   8.9   \n",
       "1  Female   25             MSc                    3.3                   5.0   \n",
       "2    Male   20           BTech                    9.5                   5.4   \n",
       "3    Male   20              BA                   10.8                   5.6   \n",
       "4  Female   17        Class 11                    2.8                   5.4   \n",
       "\n",
       "   Physical Activity (hrs/week)  Stress Level  Anxious Before Exams  \\\n",
       "0                           9.3             2                     0   \n",
       "1                           0.2             2                     0   \n",
       "2                           6.2             2                     0   \n",
       "3                           5.5             0                     1   \n",
       "4                           3.1             2                     1   \n",
       "\n",
       "  Academic Performance Change  \n",
       "0                        Same  \n",
       "1                        Same  \n",
       "2                        Same  \n",
       "3                        Same  \n",
       "4                        Same  "
      ]
     },
     "execution_count": 40,
     "metadata": {},
     "output_type": "execute_result"
    }
   ],
   "source": [
    "# Label Encoding\n",
    "le = LabelEncoder()\n",
    "\n",
    "columns = [\"Stress Level\", \"Anxious Before Exams\"]\n",
    "\n",
    "for column in columns:\n",
    "    data[column] = le.fit_transform(data[column])\n",
    "\n",
    "data.head()\n"
   ]
  },
  {
   "cell_type": "code",
   "execution_count": 41,
   "id": "cc2a9529",
   "metadata": {},
   "outputs": [
    {
     "data": {
      "application/vnd.microsoft.datawrangler.viewer.v0+json": {
       "columns": [
        {
         "name": "index",
         "rawType": "int64",
         "type": "integer"
        },
        {
         "name": "Age",
         "rawType": "int64",
         "type": "integer"
        },
        {
         "name": "Screen Time (hrs/day)",
         "rawType": "float64",
         "type": "float"
        },
        {
         "name": "Sleep Duration (hrs)",
         "rawType": "float64",
         "type": "float"
        },
        {
         "name": "Physical Activity (hrs/week)",
         "rawType": "float64",
         "type": "float"
        },
        {
         "name": "Stress Level",
         "rawType": "int64",
         "type": "integer"
        },
        {
         "name": "Anxious Before Exams",
         "rawType": "int64",
         "type": "integer"
        },
        {
         "name": "Gender_Female",
         "rawType": "float64",
         "type": "float"
        },
        {
         "name": "Gender_Male",
         "rawType": "float64",
         "type": "float"
        },
        {
         "name": "Gender_Other",
         "rawType": "float64",
         "type": "float"
        },
        {
         "name": "Education Level_BA",
         "rawType": "float64",
         "type": "float"
        },
        {
         "name": "Education Level_BSc",
         "rawType": "float64",
         "type": "float"
        },
        {
         "name": "Education Level_BTech",
         "rawType": "float64",
         "type": "float"
        },
        {
         "name": "Education Level_Class 10",
         "rawType": "float64",
         "type": "float"
        },
        {
         "name": "Education Level_Class 11",
         "rawType": "float64",
         "type": "float"
        },
        {
         "name": "Education Level_Class 12",
         "rawType": "float64",
         "type": "float"
        },
        {
         "name": "Education Level_Class 8",
         "rawType": "float64",
         "type": "float"
        },
        {
         "name": "Education Level_Class 9",
         "rawType": "float64",
         "type": "float"
        },
        {
         "name": "Education Level_MA",
         "rawType": "float64",
         "type": "float"
        },
        {
         "name": "Education Level_MSc",
         "rawType": "float64",
         "type": "float"
        },
        {
         "name": "Education Level_MTech",
         "rawType": "float64",
         "type": "float"
        },
        {
         "name": "Academic Performance Change_Declined",
         "rawType": "float64",
         "type": "float"
        },
        {
         "name": "Academic Performance Change_Improved",
         "rawType": "float64",
         "type": "float"
        },
        {
         "name": "Academic Performance Change_Same",
         "rawType": "float64",
         "type": "float"
        }
       ],
       "ref": "0602268c-825d-439c-abf2-486fe30692a4",
       "rows": [
        [
         "0",
         "15",
         "7.1",
         "8.9",
         "9.3",
         "2",
         "0",
         "0.0",
         "1.0",
         "0.0",
         "0.0",
         "0.0",
         "0.0",
         "0.0",
         "0.0",
         "0.0",
         "1.0",
         "0.0",
         "0.0",
         "0.0",
         "0.0",
         "0.0",
         "0.0",
         "1.0"
        ],
        [
         "1",
         "25",
         "3.3",
         "5.0",
         "0.2",
         "2",
         "0",
         "1.0",
         "0.0",
         "0.0",
         "0.0",
         "0.0",
         "0.0",
         "0.0",
         "0.0",
         "0.0",
         "0.0",
         "0.0",
         "0.0",
         "1.0",
         "0.0",
         "0.0",
         "0.0",
         "1.0"
        ],
        [
         "2",
         "20",
         "9.5",
         "5.4",
         "6.2",
         "2",
         "0",
         "0.0",
         "1.0",
         "0.0",
         "0.0",
         "0.0",
         "1.0",
         "0.0",
         "0.0",
         "0.0",
         "0.0",
         "0.0",
         "0.0",
         "0.0",
         "0.0",
         "0.0",
         "0.0",
         "1.0"
        ],
        [
         "3",
         "20",
         "10.8",
         "5.6",
         "5.5",
         "0",
         "1",
         "0.0",
         "1.0",
         "0.0",
         "1.0",
         "0.0",
         "0.0",
         "0.0",
         "0.0",
         "0.0",
         "0.0",
         "0.0",
         "0.0",
         "0.0",
         "0.0",
         "0.0",
         "0.0",
         "1.0"
        ],
        [
         "4",
         "17",
         "2.8",
         "5.4",
         "3.1",
         "2",
         "1",
         "1.0",
         "0.0",
         "0.0",
         "0.0",
         "0.0",
         "0.0",
         "0.0",
         "1.0",
         "0.0",
         "0.0",
         "0.0",
         "0.0",
         "0.0",
         "0.0",
         "0.0",
         "0.0",
         "1.0"
        ]
       ],
       "shape": {
        "columns": 23,
        "rows": 5
       }
      },
      "text/html": [
       "<div>\n",
       "<style scoped>\n",
       "    .dataframe tbody tr th:only-of-type {\n",
       "        vertical-align: middle;\n",
       "    }\n",
       "\n",
       "    .dataframe tbody tr th {\n",
       "        vertical-align: top;\n",
       "    }\n",
       "\n",
       "    .dataframe thead th {\n",
       "        text-align: right;\n",
       "    }\n",
       "</style>\n",
       "<table border=\"1\" class=\"dataframe\">\n",
       "  <thead>\n",
       "    <tr style=\"text-align: right;\">\n",
       "      <th></th>\n",
       "      <th>Age</th>\n",
       "      <th>Screen Time (hrs/day)</th>\n",
       "      <th>Sleep Duration (hrs)</th>\n",
       "      <th>Physical Activity (hrs/week)</th>\n",
       "      <th>Stress Level</th>\n",
       "      <th>Anxious Before Exams</th>\n",
       "      <th>Gender_Female</th>\n",
       "      <th>Gender_Male</th>\n",
       "      <th>Gender_Other</th>\n",
       "      <th>Education Level_BA</th>\n",
       "      <th>...</th>\n",
       "      <th>Education Level_Class 11</th>\n",
       "      <th>Education Level_Class 12</th>\n",
       "      <th>Education Level_Class 8</th>\n",
       "      <th>Education Level_Class 9</th>\n",
       "      <th>Education Level_MA</th>\n",
       "      <th>Education Level_MSc</th>\n",
       "      <th>Education Level_MTech</th>\n",
       "      <th>Academic Performance Change_Declined</th>\n",
       "      <th>Academic Performance Change_Improved</th>\n",
       "      <th>Academic Performance Change_Same</th>\n",
       "    </tr>\n",
       "  </thead>\n",
       "  <tbody>\n",
       "    <tr>\n",
       "      <th>0</th>\n",
       "      <td>15</td>\n",
       "      <td>7.1</td>\n",
       "      <td>8.9</td>\n",
       "      <td>9.3</td>\n",
       "      <td>2</td>\n",
       "      <td>0</td>\n",
       "      <td>0.0</td>\n",
       "      <td>1.0</td>\n",
       "      <td>0.0</td>\n",
       "      <td>0.0</td>\n",
       "      <td>...</td>\n",
       "      <td>0.0</td>\n",
       "      <td>0.0</td>\n",
       "      <td>1.0</td>\n",
       "      <td>0.0</td>\n",
       "      <td>0.0</td>\n",
       "      <td>0.0</td>\n",
       "      <td>0.0</td>\n",
       "      <td>0.0</td>\n",
       "      <td>0.0</td>\n",
       "      <td>1.0</td>\n",
       "    </tr>\n",
       "    <tr>\n",
       "      <th>1</th>\n",
       "      <td>25</td>\n",
       "      <td>3.3</td>\n",
       "      <td>5.0</td>\n",
       "      <td>0.2</td>\n",
       "      <td>2</td>\n",
       "      <td>0</td>\n",
       "      <td>1.0</td>\n",
       "      <td>0.0</td>\n",
       "      <td>0.0</td>\n",
       "      <td>0.0</td>\n",
       "      <td>...</td>\n",
       "      <td>0.0</td>\n",
       "      <td>0.0</td>\n",
       "      <td>0.0</td>\n",
       "      <td>0.0</td>\n",
       "      <td>0.0</td>\n",
       "      <td>1.0</td>\n",
       "      <td>0.0</td>\n",
       "      <td>0.0</td>\n",
       "      <td>0.0</td>\n",
       "      <td>1.0</td>\n",
       "    </tr>\n",
       "    <tr>\n",
       "      <th>2</th>\n",
       "      <td>20</td>\n",
       "      <td>9.5</td>\n",
       "      <td>5.4</td>\n",
       "      <td>6.2</td>\n",
       "      <td>2</td>\n",
       "      <td>0</td>\n",
       "      <td>0.0</td>\n",
       "      <td>1.0</td>\n",
       "      <td>0.0</td>\n",
       "      <td>0.0</td>\n",
       "      <td>...</td>\n",
       "      <td>0.0</td>\n",
       "      <td>0.0</td>\n",
       "      <td>0.0</td>\n",
       "      <td>0.0</td>\n",
       "      <td>0.0</td>\n",
       "      <td>0.0</td>\n",
       "      <td>0.0</td>\n",
       "      <td>0.0</td>\n",
       "      <td>0.0</td>\n",
       "      <td>1.0</td>\n",
       "    </tr>\n",
       "    <tr>\n",
       "      <th>3</th>\n",
       "      <td>20</td>\n",
       "      <td>10.8</td>\n",
       "      <td>5.6</td>\n",
       "      <td>5.5</td>\n",
       "      <td>0</td>\n",
       "      <td>1</td>\n",
       "      <td>0.0</td>\n",
       "      <td>1.0</td>\n",
       "      <td>0.0</td>\n",
       "      <td>1.0</td>\n",
       "      <td>...</td>\n",
       "      <td>0.0</td>\n",
       "      <td>0.0</td>\n",
       "      <td>0.0</td>\n",
       "      <td>0.0</td>\n",
       "      <td>0.0</td>\n",
       "      <td>0.0</td>\n",
       "      <td>0.0</td>\n",
       "      <td>0.0</td>\n",
       "      <td>0.0</td>\n",
       "      <td>1.0</td>\n",
       "    </tr>\n",
       "    <tr>\n",
       "      <th>4</th>\n",
       "      <td>17</td>\n",
       "      <td>2.8</td>\n",
       "      <td>5.4</td>\n",
       "      <td>3.1</td>\n",
       "      <td>2</td>\n",
       "      <td>1</td>\n",
       "      <td>1.0</td>\n",
       "      <td>0.0</td>\n",
       "      <td>0.0</td>\n",
       "      <td>0.0</td>\n",
       "      <td>...</td>\n",
       "      <td>1.0</td>\n",
       "      <td>0.0</td>\n",
       "      <td>0.0</td>\n",
       "      <td>0.0</td>\n",
       "      <td>0.0</td>\n",
       "      <td>0.0</td>\n",
       "      <td>0.0</td>\n",
       "      <td>0.0</td>\n",
       "      <td>0.0</td>\n",
       "      <td>1.0</td>\n",
       "    </tr>\n",
       "  </tbody>\n",
       "</table>\n",
       "<p>5 rows × 23 columns</p>\n",
       "</div>"
      ],
      "text/plain": [
       "   Age  Screen Time (hrs/day)  Sleep Duration (hrs)  \\\n",
       "0   15                    7.1                   8.9   \n",
       "1   25                    3.3                   5.0   \n",
       "2   20                    9.5                   5.4   \n",
       "3   20                   10.8                   5.6   \n",
       "4   17                    2.8                   5.4   \n",
       "\n",
       "   Physical Activity (hrs/week)  Stress Level  Anxious Before Exams  \\\n",
       "0                           9.3             2                     0   \n",
       "1                           0.2             2                     0   \n",
       "2                           6.2             2                     0   \n",
       "3                           5.5             0                     1   \n",
       "4                           3.1             2                     1   \n",
       "\n",
       "   Gender_Female  Gender_Male  Gender_Other  Education Level_BA  ...  \\\n",
       "0            0.0          1.0           0.0                 0.0  ...   \n",
       "1            1.0          0.0           0.0                 0.0  ...   \n",
       "2            0.0          1.0           0.0                 0.0  ...   \n",
       "3            0.0          1.0           0.0                 1.0  ...   \n",
       "4            1.0          0.0           0.0                 0.0  ...   \n",
       "\n",
       "   Education Level_Class 11  Education Level_Class 12  \\\n",
       "0                       0.0                       0.0   \n",
       "1                       0.0                       0.0   \n",
       "2                       0.0                       0.0   \n",
       "3                       0.0                       0.0   \n",
       "4                       1.0                       0.0   \n",
       "\n",
       "   Education Level_Class 8  Education Level_Class 9  Education Level_MA  \\\n",
       "0                      1.0                      0.0                 0.0   \n",
       "1                      0.0                      0.0                 0.0   \n",
       "2                      0.0                      0.0                 0.0   \n",
       "3                      0.0                      0.0                 0.0   \n",
       "4                      0.0                      0.0                 0.0   \n",
       "\n",
       "   Education Level_MSc  Education Level_MTech  \\\n",
       "0                  0.0                    0.0   \n",
       "1                  1.0                    0.0   \n",
       "2                  0.0                    0.0   \n",
       "3                  0.0                    0.0   \n",
       "4                  0.0                    0.0   \n",
       "\n",
       "   Academic Performance Change_Declined  Academic Performance Change_Improved  \\\n",
       "0                                   0.0                                   0.0   \n",
       "1                                   0.0                                   0.0   \n",
       "2                                   0.0                                   0.0   \n",
       "3                                   0.0                                   0.0   \n",
       "4                                   0.0                                   0.0   \n",
       "\n",
       "   Academic Performance Change_Same  \n",
       "0                               1.0  \n",
       "1                               1.0  \n",
       "2                               1.0  \n",
       "3                               1.0  \n",
       "4                               1.0  \n",
       "\n",
       "[5 rows x 23 columns]"
      ]
     },
     "execution_count": 41,
     "metadata": {},
     "output_type": "execute_result"
    }
   ],
   "source": [
    "# One Hot Encoding\n",
    "\n",
    "columns_2 = [\"Gender\", \"Education Level\", \"Academic Performance Change\"]\n",
    "encoder = OneHotEncoder()\n",
    "\n",
    "# Perform One Hot Encoding and add the new columns to the dataframe\n",
    "for column_2 in columns_2:\n",
    "    encoded = encoder.fit_transform(data[[column_2]]).toarray()\n",
    "    encoded_df = pd.DataFrame(encoded, columns=encoder.get_feature_names_out([column_2]))\n",
    "    data = pd.concat([data.drop(column_2, axis=1), encoded_df], axis=1)\n",
    "\n",
    "data.head()\n"
   ]
  },
  {
   "cell_type": "markdown",
   "id": "a4d050d0",
   "metadata": {},
   "source": [
    "# Preprocessing"
   ]
  },
  {
   "cell_type": "code",
   "execution_count": 42,
   "metadata": {},
   "outputs": [
    {
     "name": "stdout",
     "output_type": "stream",
     "text": [
      "Data after removing outliers:\n"
     ]
    },
    {
     "data": {
      "text/plain": [
       "(398, 23)"
      ]
     },
     "execution_count": 42,
     "metadata": {},
     "output_type": "execute_result"
    }
   ],
   "source": [
    "# Outlier detection\n",
    "\n",
    "def detect_outliers_iqr(df, column):\n",
    "    Q1 = df[column].quantile(0.25)\n",
    "    Q3 = df[column].quantile(0.75)\n",
    "    IQR = Q3 - Q1\n",
    "    lower_bound = Q1 - 1.5 * IQR\n",
    "    upper_bound = Q3 + 1.5 * IQR\n",
    "    return df[(df[column] < lower_bound) | (df[column] > upper_bound)]\n",
    "\n",
    "outlier_col = [col for col in data.columns if data[col].dtype in [np.int64, np.float64]]\n",
    "for col in outlier_col:\n",
    "    outliers = detect_outliers_iqr(data, col)\n",
    "    if not outliers.empty:\n",
    "        # print(f\"Outliers detected in column '{col}':\")\n",
    "        # print(outliers)\n",
    "        # remove outliers\n",
    "        data = data[~data.index.isin(outliers.index)]\n",
    "# Displaying the cleaned data\n",
    "print(\"Data after removing outliers:\")\n",
    "data.head()\n",
    "data.shape\n",
    "\n",
    "# # Plotting Gender_Other Box plot\n",
    "# plt.figure(figsize=(10, 6))\n",
    "# sns.boxplot(x=data[\"Gender_Other\"])\n",
    "# plt.title(\"Box Plot of Gender_Other\")\n",
    "# plt.xlabel(\"Gender_Other\")\n",
    "# plt.show()\n"
   ]
  },
  {
   "cell_type": "markdown",
   "id": "6d24ad83",
   "metadata": {},
   "source": [
    "# ML"
   ]
  },
  {
   "cell_type": "code",
   "execution_count": 54,
   "id": "7a8c1f8d",
   "metadata": {},
   "outputs": [
    {
     "name": "stdout",
     "output_type": "stream",
     "text": [
      "Accuracy: 0.53\n",
      "Classification Report:\n",
      "              precision    recall  f1-score   support\n",
      "\n",
      "           0       0.00      0.00      0.00        12\n",
      "           1       0.47      0.31      0.37        26\n",
      "           2       0.54      0.81      0.65        42\n",
      "\n",
      "    accuracy                           0.53        80\n",
      "   macro avg       0.34      0.37      0.34        80\n",
      "weighted avg       0.44      0.53      0.46        80\n",
      "\n",
      "Confusion Matrix:\n",
      "[[ 0  1 11]\n",
      " [ 0  8 18]\n",
      " [ 0  8 34]]\n"
     ]
    },
    {
     "name": "stderr",
     "output_type": "stream",
     "text": [
      "c:\\Users\\HP\\AppData\\Local\\Programs\\Python\\Python311\\Lib\\site-packages\\sklearn\\metrics\\_classification.py:1565: UndefinedMetricWarning: Precision is ill-defined and being set to 0.0 in labels with no predicted samples. Use `zero_division` parameter to control this behavior.\n",
      "  _warn_prf(average, modifier, f\"{metric.capitalize()} is\", len(result))\n",
      "c:\\Users\\HP\\AppData\\Local\\Programs\\Python\\Python311\\Lib\\site-packages\\sklearn\\metrics\\_classification.py:1565: UndefinedMetricWarning: Precision is ill-defined and being set to 0.0 in labels with no predicted samples. Use `zero_division` parameter to control this behavior.\n",
      "  _warn_prf(average, modifier, f\"{metric.capitalize()} is\", len(result))\n",
      "c:\\Users\\HP\\AppData\\Local\\Programs\\Python\\Python311\\Lib\\site-packages\\sklearn\\metrics\\_classification.py:1565: UndefinedMetricWarning: Precision is ill-defined and being set to 0.0 in labels with no predicted samples. Use `zero_division` parameter to control this behavior.\n",
      "  _warn_prf(average, modifier, f\"{metric.capitalize()} is\", len(result))\n"
     ]
    },
    {
     "data": {
      "text/plain": [
       "['mental_health_model.pkl']"
      ]
     },
     "execution_count": 54,
     "metadata": {},
     "output_type": "execute_result"
    }
   ],
   "source": [
    "# Spliting data into features and target variable\n",
    "X = data.drop(['Stress Level'], axis=1)\n",
    "y = data['Stress Level']\n",
    "\n",
    "# Splitting the dataset into training and testing sets\n",
    "X_train, X_test, y_train, y_test = train_test_split(X, y, test_size=0.2, random_state=42)\n",
    "\n",
    "\n",
    "# Creating and training the Random Forest Classifier model\n",
    "model = LogisticRegression(max_iter=1000, random_state=42)\n",
    "model.fit(X_train, y_train)\n",
    "# Making predictions on the test set\n",
    "y_pred = model.predict(X_test)\n",
    "# Evaluating the model\n",
    "accuracy = accuracy_score(y_test, y_pred)\n",
    "print(f\"Accuracy: {accuracy:.2f}\")\n",
    "print(\"Classification Report:\")\n",
    "print(classification_report(y_test, y_pred))\n",
    "print(\"Confusion Matrix:\")\n",
    "print(confusion_matrix(y_test, y_pred))\n",
    "\n",
    "# Saving the model\n",
    "jl.dump(model, 'mental_health_model.pkl')\n",
    "\n"
   ]
  },
  {
   "cell_type": "code",
   "execution_count": null,
   "id": "b01ffc25",
   "metadata": {},
   "outputs": [],
   "source": []
  }
 ],
 "metadata": {
  "kernelspec": {
   "display_name": "Python 3",
   "language": "python",
   "name": "python3"
  },
  "language_info": {
   "codemirror_mode": {
    "name": "ipython",
    "version": 3
   },
   "file_extension": ".py",
   "mimetype": "text/x-python",
   "name": "python",
   "nbconvert_exporter": "python",
   "pygments_lexer": "ipython3",
   "version": "3.11.7"
  }
 },
 "nbformat": 4,
 "nbformat_minor": 5
}
